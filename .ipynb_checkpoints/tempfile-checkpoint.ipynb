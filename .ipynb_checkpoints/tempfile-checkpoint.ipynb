{
 "metadata": {
  "name": "",
  "signature": "sha256:ca0b21f46ac1db014a24bd50678bdfe7f202c2806561c2c0f229a885f105d170"
 },
 "nbformat": 3,
 "nbformat_minor": 0,
 "worksheets": []
}